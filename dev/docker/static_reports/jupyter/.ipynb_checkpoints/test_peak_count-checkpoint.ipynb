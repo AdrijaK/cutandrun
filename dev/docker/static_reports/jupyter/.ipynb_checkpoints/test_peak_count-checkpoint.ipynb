{
 "cells": [
  {
   "cell_type": "code",
   "execution_count": 7,
   "id": "21951c4f-eabc-49c8-8ca6-decc244f0592",
   "metadata": {},
   "outputs": [
    {
     "ename": "ModuleNotFoundError",
     "evalue": "No module named 'pandas'",
     "output_type": "error",
     "traceback": [
      "\u001b[0;31m---------------------------------------------------------------------------\u001b[0m",
      "\u001b[0;31mModuleNotFoundError\u001b[0m                       Traceback (most recent call last)",
      "Input \u001b[0;32mIn [7]\u001b[0m, in \u001b[0;36m<module>\u001b[0;34m\u001b[0m\n\u001b[1;32m      1\u001b[0m \u001b[38;5;28;01mimport\u001b[39;00m \u001b[38;5;21;01mglob\u001b[39;00m\n\u001b[0;32m----> 2\u001b[0m \u001b[38;5;28;01mimport\u001b[39;00m \u001b[38;5;21;01mpandas\u001b[39;00m \u001b[38;5;28;01mas\u001b[39;00m \u001b[38;5;21;01mpd\u001b[39;00m\n",
      "\u001b[0;31mModuleNotFoundError\u001b[0m: No module named 'pandas'"
     ]
    }
   ],
   "source": [
    "import glob\n",
    "import pandas as pd"
   ]
  },
  {
   "cell_type": "code",
   "execution_count": null,
   "id": "b79274d5-13e9-4c95-93a7-1fd0ef623e12",
   "metadata": {},
   "outputs": [],
   "source": []
  },
  {
   "cell_type": "code",
   "execution_count": 4,
   "id": "c10f7b3a-f1bd-4e2e-a1b1-236901020676",
   "metadata": {},
   "outputs": [],
   "source": [
    "path = \"/Users/cheshic/dev/test_data/cutandrun/*.bed\""
   ]
  },
  {
   "cell_type": "code",
   "execution_count": 6,
   "id": "5e3d36ca-cad8-42f1-a5c3-983bb07bc27a",
   "metadata": {},
   "outputs": [
    {
     "data": {
      "text/plain": [
       "['/Users/cheshic/dev/test_data/cutandrun/h3k4me3_R2.peaks.bed.stringent.bed',\n",
       " '/Users/cheshic/dev/test_data/cutandrun/h3k4me3_R1.peaks.bed.stringent.bed',\n",
       " '/Users/cheshic/dev/test_data/cutandrun/h3k27me3_R2.peaks.bed.stringent.bed',\n",
       " '/Users/cheshic/dev/test_data/cutandrun/h3k27me3_R1.peaks.bed.stringent.bed']"
      ]
     },
     "execution_count": 6,
     "metadata": {},
     "output_type": "execute_result"
    }
   ],
   "source": [
    "seacr_bed_list = glob.glob(path)\n",
    "seacr_bed_list"
   ]
  },
  {
   "cell_type": "code",
   "execution_count": null,
   "id": "87b50550-d7fe-4391-969d-1ae40d4e2957",
   "metadata": {},
   "outputs": [],
   "source": [
    "for i in list(range(len(seacr_bed_list))):\n",
    "        seacr_bed_i = pd.read_csv(seacr_bed_list[i], sep='\\t', header=None, usecols=[0,1,2,3,4], names=['chrom','start','end','total_signal','max_signal'])\n",
    "        bed_base_i = os.path.basename(seacr_bed_list[i])\n",
    "\n",
    "        #  split bed files on dots\n",
    "        bed_id_list = bed_base_i.split(\".\")\n",
    "\n",
    "        # join list on the elements of the sample id\n",
    "        separator = \"\"\n",
    "        sample_id = separator.join(bed_id_list[0:-4])\n",
    "\n",
    "        # split sample id on underscores\n",
    "        sample_id_split_list = sample_id.split(\"_\")\n",
    "\n",
    "        #  take first element of this list for group id\n",
    "        group_i = separator.join(sample_id_split_list[0:-1])\n",
    "\n",
    "        # take last element fo this list for replicate number\n",
    "        rep_i = sample_id_split_list[-1]\n",
    "\n",
    "        seacr_bed_i['group'] = np.repeat(group_i, seacr_bed_i.shape[0])\n",
    "        seacr_bed_i['replicate'] = np.repeat(rep_i, seacr_bed_i.shape[0])\n",
    "\n",
    "        if i==0:\n",
    "            self.seacr_beds = seacr_bed_i\n",
    "\n",
    "        else:\n",
    "            self.seacr_beds = self.seacr_beds.append(seacr_bed_i)"
   ]
  }
 ],
 "metadata": {
  "kernelspec": {
   "display_name": "Python 3 (ipykernel)",
   "language": "python",
   "name": "python3"
  },
  "language_info": {
   "codemirror_mode": {
    "name": "ipython",
    "version": 3
   },
   "file_extension": ".py",
   "mimetype": "text/x-python",
   "name": "python",
   "nbconvert_exporter": "python",
   "pygments_lexer": "ipython3",
   "version": "3.10.2"
  }
 },
 "nbformat": 4,
 "nbformat_minor": 5
}
