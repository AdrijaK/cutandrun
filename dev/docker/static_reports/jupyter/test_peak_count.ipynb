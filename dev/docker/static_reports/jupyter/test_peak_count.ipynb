{
 "cells": [
  {
   "cell_type": "code",
   "execution_count": 8,
   "id": "21951c4f-eabc-49c8-8ca6-decc244f0592",
   "metadata": {},
   "outputs": [],
   "source": [
    "import glob\n",
    "import os\n",
    "import pandas as pd\n",
    "import numpy as np"
   ]
  },
  {
   "cell_type": "code",
   "execution_count": 10,
   "id": "b79274d5-13e9-4c95-93a7-1fd0ef623e12",
   "metadata": {},
   "outputs": [],
   "source": [
    "seacr_beds = None"
   ]
  },
  {
   "cell_type": "code",
   "execution_count": 3,
   "id": "c10f7b3a-f1bd-4e2e-a1b1-236901020676",
   "metadata": {},
   "outputs": [],
   "source": [
    "path = \"/Users/cheshic/dev/test_data/cutandrun/*.bed\""
   ]
  },
  {
   "cell_type": "code",
   "execution_count": 4,
   "id": "5e3d36ca-cad8-42f1-a5c3-983bb07bc27a",
   "metadata": {},
   "outputs": [
    {
     "data": {
      "text/plain": [
       "['/Users/cheshic/dev/test_data/cutandrun/h3k4me3_R2.peaks.bed.stringent.bed',\n",
       " '/Users/cheshic/dev/test_data/cutandrun/h3k4me3_R1.peaks.bed.stringent.bed',\n",
       " '/Users/cheshic/dev/test_data/cutandrun/h3k27me3_R2.peaks.bed.stringent.bed',\n",
       " '/Users/cheshic/dev/test_data/cutandrun/h3k27me3_R1.peaks.bed.stringent.bed']"
      ]
     },
     "execution_count": 4,
     "metadata": {},
     "output_type": "execute_result"
    }
   ],
   "source": [
    "seacr_bed_list = glob.glob(path)\n",
    "seacr_bed_list"
   ]
  },
  {
   "cell_type": "code",
   "execution_count": 17,
   "id": "87b50550-d7fe-4391-969d-1ae40d4e2957",
   "metadata": {},
   "outputs": [
    {
     "name": "stdout",
     "output_type": "stream",
     "text": [
      "25076\n",
      "97770\n"
     ]
    },
    {
     "name": "stderr",
     "output_type": "stream",
     "text": [
      "/var/folders/3p/m4wl6mfj0pq4445vvxg8c458fthlkc/T/ipykernel_48447/363799724.py:29: FutureWarning: The frame.append method is deprecated and will be removed from pandas in a future version. Use pandas.concat instead.\n",
      "  seacr_beds = seacr_beds.append(seacr_bed_i)\n"
     ]
    },
    {
     "name": "stdout",
     "output_type": "stream",
     "text": [
      "588171\n"
     ]
    },
    {
     "name": "stderr",
     "output_type": "stream",
     "text": [
      "/var/folders/3p/m4wl6mfj0pq4445vvxg8c458fthlkc/T/ipykernel_48447/363799724.py:29: FutureWarning: The frame.append method is deprecated and will be removed from pandas in a future version. Use pandas.concat instead.\n",
      "  seacr_beds = seacr_beds.append(seacr_bed_i)\n"
     ]
    },
    {
     "name": "stdout",
     "output_type": "stream",
     "text": [
      "690738\n"
     ]
    },
    {
     "name": "stderr",
     "output_type": "stream",
     "text": [
      "/var/folders/3p/m4wl6mfj0pq4445vvxg8c458fthlkc/T/ipykernel_48447/363799724.py:29: FutureWarning: The frame.append method is deprecated and will be removed from pandas in a future version. Use pandas.concat instead.\n",
      "  seacr_beds = seacr_beds.append(seacr_bed_i)\n"
     ]
    }
   ],
   "source": [
    "for i in list(range(len(seacr_bed_list))):\n",
    "        seacr_bed_i = pd.read_csv(seacr_bed_list[i], sep='\\t', header=None, usecols=[0,1,2,3,4], names=['chrom','start','end','total_signal','max_signal'])\n",
    "        print(len(seacr_bed_i.index))\n",
    "        bed_base_i = os.path.basename(seacr_bed_list[i])\n",
    "\n",
    "        #  split bed files on dots\n",
    "        bed_id_list = bed_base_i.split(\".\")\n",
    "\n",
    "        # join list on the elements of the sample id\n",
    "        separator = \"\"\n",
    "        sample_id = separator.join(bed_id_list[0:-4])\n",
    "\n",
    "        # split sample id on underscores\n",
    "        sample_id_split_list = sample_id.split(\"_\")\n",
    "\n",
    "        #  take first element of this list for group id\n",
    "        group_i = separator.join(sample_id_split_list[0:-1])\n",
    "\n",
    "        # take last element fo this list for replicate number\n",
    "        rep_i = sample_id_split_list[-1]\n",
    "\n",
    "        seacr_bed_i['group'] = np.repeat(group_i, seacr_bed_i.shape[0])\n",
    "        seacr_bed_i['replicate'] = np.repeat(rep_i, seacr_bed_i.shape[0])\n",
    "\n",
    "        if i==0:\n",
    "            seacr_beds = seacr_bed_i\n",
    "\n",
    "        else:\n",
    "            seacr_beds = seacr_beds.append(seacr_bed_i)"
   ]
  },
  {
   "cell_type": "code",
   "execution_count": 14,
   "id": "ee8e5c87-3bb6-42f9-aa17-5361ddf600f0",
   "metadata": {},
   "outputs": [
    {
     "data": {
      "text/html": [
       "<div>\n",
       "<style scoped>\n",
       "    .dataframe tbody tr th:only-of-type {\n",
       "        vertical-align: middle;\n",
       "    }\n",
       "\n",
       "    .dataframe tbody tr th {\n",
       "        vertical-align: top;\n",
       "    }\n",
       "\n",
       "    .dataframe thead th {\n",
       "        text-align: right;\n",
       "    }\n",
       "</style>\n",
       "<table border=\"1\" class=\"dataframe\">\n",
       "  <thead>\n",
       "    <tr style=\"text-align: right;\">\n",
       "      <th></th>\n",
       "      <th>chrom</th>\n",
       "      <th>start</th>\n",
       "      <th>end</th>\n",
       "      <th>total_signal</th>\n",
       "      <th>max_signal</th>\n",
       "      <th>group</th>\n",
       "      <th>replicate</th>\n",
       "    </tr>\n",
       "  </thead>\n",
       "  <tbody>\n",
       "    <tr>\n",
       "      <th>0</th>\n",
       "      <td>chr1</td>\n",
       "      <td>633966</td>\n",
       "      <td>634046</td>\n",
       "      <td>1160.25</td>\n",
       "      <td>38.0409</td>\n",
       "      <td>h3k4me3</td>\n",
       "      <td>R2</td>\n",
       "    </tr>\n",
       "    <tr>\n",
       "      <th>1</th>\n",
       "      <td>chr1</td>\n",
       "      <td>778350</td>\n",
       "      <td>778443</td>\n",
       "      <td>1319.54</td>\n",
       "      <td>33.2858</td>\n",
       "      <td>h3k4me3</td>\n",
       "      <td>R2</td>\n",
       "    </tr>\n",
       "    <tr>\n",
       "      <th>2</th>\n",
       "      <td>chr1</td>\n",
       "      <td>778551</td>\n",
       "      <td>778681</td>\n",
       "      <td>2817.40</td>\n",
       "      <td>49.9287</td>\n",
       "      <td>h3k4me3</td>\n",
       "      <td>R2</td>\n",
       "    </tr>\n",
       "    <tr>\n",
       "      <th>3</th>\n",
       "      <td>chr1</td>\n",
       "      <td>779141</td>\n",
       "      <td>779265</td>\n",
       "      <td>1428.91</td>\n",
       "      <td>28.5307</td>\n",
       "      <td>h3k4me3</td>\n",
       "      <td>R2</td>\n",
       "    </tr>\n",
       "    <tr>\n",
       "      <th>4</th>\n",
       "      <td>chr1</td>\n",
       "      <td>827475</td>\n",
       "      <td>827527</td>\n",
       "      <td>1440.80</td>\n",
       "      <td>52.3062</td>\n",
       "      <td>h3k4me3</td>\n",
       "      <td>R2</td>\n",
       "    </tr>\n",
       "    <tr>\n",
       "      <th>...</th>\n",
       "      <td>...</td>\n",
       "      <td>...</td>\n",
       "      <td>...</td>\n",
       "      <td>...</td>\n",
       "      <td>...</td>\n",
       "      <td>...</td>\n",
       "      <td>...</td>\n",
       "    </tr>\n",
       "    <tr>\n",
       "      <th>690733</th>\n",
       "      <td>chrX</td>\n",
       "      <td>154894369</td>\n",
       "      <td>154894403</td>\n",
       "      <td>2227.27</td>\n",
       "      <td>90.9091</td>\n",
       "      <td>h3k27me3</td>\n",
       "      <td>R1</td>\n",
       "    </tr>\n",
       "    <tr>\n",
       "      <th>690734</th>\n",
       "      <td>chrX</td>\n",
       "      <td>154896407</td>\n",
       "      <td>154896438</td>\n",
       "      <td>2181.82</td>\n",
       "      <td>90.9091</td>\n",
       "      <td>h3k27me3</td>\n",
       "      <td>R1</td>\n",
       "    </tr>\n",
       "    <tr>\n",
       "      <th>690735</th>\n",
       "      <td>chrX</td>\n",
       "      <td>154980844</td>\n",
       "      <td>154980890</td>\n",
       "      <td>2272.73</td>\n",
       "      <td>90.9091</td>\n",
       "      <td>h3k27me3</td>\n",
       "      <td>R1</td>\n",
       "    </tr>\n",
       "    <tr>\n",
       "      <th>690736</th>\n",
       "      <td>chrX</td>\n",
       "      <td>155756168</td>\n",
       "      <td>155756216</td>\n",
       "      <td>2272.73</td>\n",
       "      <td>90.9091</td>\n",
       "      <td>h3k27me3</td>\n",
       "      <td>R1</td>\n",
       "    </tr>\n",
       "    <tr>\n",
       "      <th>690737</th>\n",
       "      <td>chrY</td>\n",
       "      <td>11107016</td>\n",
       "      <td>11107055</td>\n",
       "      <td>2227.27</td>\n",
       "      <td>90.9091</td>\n",
       "      <td>h3k27me3</td>\n",
       "      <td>R1</td>\n",
       "    </tr>\n",
       "  </tbody>\n",
       "</table>\n",
       "<p>1401755 rows × 7 columns</p>\n",
       "</div>"
      ],
      "text/plain": [
       "       chrom      start        end  total_signal  max_signal     group  \\\n",
       "0       chr1     633966     634046       1160.25     38.0409   h3k4me3   \n",
       "1       chr1     778350     778443       1319.54     33.2858   h3k4me3   \n",
       "2       chr1     778551     778681       2817.40     49.9287   h3k4me3   \n",
       "3       chr1     779141     779265       1428.91     28.5307   h3k4me3   \n",
       "4       chr1     827475     827527       1440.80     52.3062   h3k4me3   \n",
       "...      ...        ...        ...           ...         ...       ...   \n",
       "690733  chrX  154894369  154894403       2227.27     90.9091  h3k27me3   \n",
       "690734  chrX  154896407  154896438       2181.82     90.9091  h3k27me3   \n",
       "690735  chrX  154980844  154980890       2272.73     90.9091  h3k27me3   \n",
       "690736  chrX  155756168  155756216       2272.73     90.9091  h3k27me3   \n",
       "690737  chrY   11107016   11107055       2227.27     90.9091  h3k27me3   \n",
       "\n",
       "       replicate  \n",
       "0             R2  \n",
       "1             R2  \n",
       "2             R2  \n",
       "3             R2  \n",
       "4             R2  \n",
       "...          ...  \n",
       "690733        R1  \n",
       "690734        R1  \n",
       "690735        R1  \n",
       "690736        R1  \n",
       "690737        R1  \n",
       "\n",
       "[1401755 rows x 7 columns]"
      ]
     },
     "execution_count": 14,
     "metadata": {},
     "output_type": "execute_result"
    }
   ],
   "source": [
    "seacr_beds"
   ]
  },
  {
   "cell_type": "code",
   "execution_count": 16,
   "id": "584fd72f-5ef9-46ee-91f9-971ba67354ec",
   "metadata": {},
   "outputs": [
    {
     "data": {
      "text/html": [
       "<div>\n",
       "<style scoped>\n",
       "    .dataframe tbody tr th:only-of-type {\n",
       "        vertical-align: middle;\n",
       "    }\n",
       "\n",
       "    .dataframe tbody tr th {\n",
       "        vertical-align: top;\n",
       "    }\n",
       "\n",
       "    .dataframe thead th {\n",
       "        text-align: right;\n",
       "    }\n",
       "</style>\n",
       "<table border=\"1\" class=\"dataframe\">\n",
       "  <thead>\n",
       "    <tr style=\"text-align: right;\">\n",
       "      <th></th>\n",
       "      <th>group</th>\n",
       "      <th>replicate</th>\n",
       "      <th>all_peaks</th>\n",
       "    </tr>\n",
       "  </thead>\n",
       "  <tbody>\n",
       "    <tr>\n",
       "      <th>0</th>\n",
       "      <td>h3k27me3</td>\n",
       "      <td>R1</td>\n",
       "      <td>690738</td>\n",
       "    </tr>\n",
       "    <tr>\n",
       "      <th>1</th>\n",
       "      <td>h3k27me3</td>\n",
       "      <td>R2</td>\n",
       "      <td>588171</td>\n",
       "    </tr>\n",
       "    <tr>\n",
       "      <th>2</th>\n",
       "      <td>h3k4me3</td>\n",
       "      <td>R1</td>\n",
       "      <td>97770</td>\n",
       "    </tr>\n",
       "    <tr>\n",
       "      <th>3</th>\n",
       "      <td>h3k4me3</td>\n",
       "      <td>R2</td>\n",
       "      <td>25076</td>\n",
       "    </tr>\n",
       "  </tbody>\n",
       "</table>\n",
       "</div>"
      ],
      "text/plain": [
       "      group replicate  all_peaks\n",
       "0  h3k27me3        R1     690738\n",
       "1  h3k27me3        R2     588171\n",
       "2   h3k4me3        R1      97770\n",
       "3   h3k4me3        R2      25076"
      ]
     },
     "execution_count": 16,
     "metadata": {},
     "output_type": "execute_result"
    }
   ],
   "source": [
    "seacr_beds_group_rep = seacr_beds[['group','replicate']].groupby(['group','replicate']).size().reset_index().rename(columns={0:'all_peaks'})\n",
    "seacr_beds_group_rep"
   ]
  },
  {
   "cell_type": "code",
   "execution_count": null,
   "id": "c56c7417-530d-4b03-93fd-ffdf98f2abbd",
   "metadata": {},
   "outputs": [],
   "source": []
  }
 ],
 "metadata": {
  "kernelspec": {
   "display_name": "Python 3 (ipykernel)",
   "language": "python",
   "name": "python3"
  },
  "language_info": {
   "codemirror_mode": {
    "name": "ipython",
    "version": 3
   },
   "file_extension": ".py",
   "mimetype": "text/x-python",
   "name": "python",
   "nbconvert_exporter": "python",
   "pygments_lexer": "ipython3",
   "version": "3.10.2"
  }
 },
 "nbformat": 4,
 "nbformat_minor": 5
}
